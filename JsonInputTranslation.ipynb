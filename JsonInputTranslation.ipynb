{
 "cells": [
  {
   "cell_type": "markdown",
   "metadata": {},
   "source": [
    "# Translating JSON input\n",
    "author: Raju Penmatcha"
   ]
  },
  {
   "cell_type": "markdown",
   "metadata": {},
   "source": [
    "## This is a three step process\n",
    "1. Convert your JSON document into XML\n",
    "2. Translate the XML document using Amazon Translate. Amazon Translate will ignore XML tags \n",
    "and will translate only content within tags\n",
    "3. Convert translated XML document back to original JSON format"
   ]
  },
  {
   "cell_type": "code",
   "execution_count": 1,
   "metadata": {},
   "outputs": [],
   "source": [
    "# Install json2xml\n",
    "!pip install json2xml"
   ]
  },
  {
   "cell_type": "code",
   "execution_count": 2,
   "metadata": {},
   "outputs": [],
   "source": [
    "# An example json document\n",
    "exampleJson = '{ \\\n",
    "  \"firstName\": \"John\", \\\n",
    "  \"lastName\": \"Smith\", \\\n",
    "  \"isAlive\": true, \\\n",
    "  \"age\": 27, \\\n",
    "  \"address\": { \\\n",
    "    \"streetAddress\": \"21st Street\", \\\n",
    "    \"city\": \"New York\", \\\n",
    "    \"state\": \"NY\", \\\n",
    "    \"postalCode\": \"10021-3100\" \\\n",
    "  }, \\\n",
    "  \"phoneNumbers\": [ \\\n",
    "    { \\\n",
    "      \"type\": \"home\", \\\n",
    "      \"number\": \"212 555-1234\" \\\n",
    "    }, \\\n",
    "    { \\\n",
    "      \"type\": \"office\", \\\n",
    "      \"number\": \"646 555-4567\" \\\n",
    "    } \\\n",
    "  ], \\\n",
    "  \"children\": [], \\\n",
    "  \"spouse\": null \\\n",
    "}'"
   ]
  },
  {
   "cell_type": "code",
   "execution_count": 3,
   "metadata": {},
   "outputs": [
    {
     "name": "stdout",
     "output_type": "stream",
     "text": [
      "{\n",
      "  \"firstName\": \"John\",\n",
      "  \"lastName\": \"Smith\",\n",
      "  \"isAlive\": true,\n",
      "  \"age\": 27,\n",
      "  \"address\": {\n",
      "    \"streetAddress\": \"21st Street\",\n",
      "    \"city\": \"New York\",\n",
      "    \"state\": \"NY\",\n",
      "    \"postalCode\": \"10021-3100\"\n",
      "  },\n",
      "  \"phoneNumbers\": [\n",
      "    {\n",
      "      \"type\": \"home\",\n",
      "      \"number\": \"212 555-1234\"\n",
      "    },\n",
      "    {\n",
      "      \"type\": \"office\",\n",
      "      \"number\": \"646 555-4567\"\n",
      "    }\n",
      "  ],\n",
      "  \"children\": [],\n",
      "  \"spouse\": null\n",
      "}\n"
     ]
    }
   ],
   "source": [
    "import json \n",
    "def printJson(json_data):\n",
    "    json_object = json.loads(json_data)\n",
    "    print(json.dumps(json_object, indent=2))\n",
    "\n",
    "printJson(exampleJson)"
   ]
  },
  {
   "cell_type": "code",
   "execution_count": 4,
   "metadata": {},
   "outputs": [
    {
     "name": "stdout",
     "output_type": "stream",
     "text": [
      "<?xml version=\"1.0\" ?>\n",
      "<all>\n",
      "\t<firstName>John</firstName>\n",
      "\t<lastName>Smith</lastName>\n",
      "\t<isAlive>True</isAlive>\n",
      "\t<age>27</age>\n",
      "\t<address>\n",
      "\t\t<streetAddress>21st Street</streetAddress>\n",
      "\t\t<city>New York</city>\n",
      "\t\t<state>NY</state>\n",
      "\t\t<postalCode>10021-3100</postalCode>\n",
      "\t</address>\n",
      "\t<phoneNumbers>\n",
      "\t\t<item>\n",
      "\t\t\t<type>home</type>\n",
      "\t\t\t<number>212 555-1234</number>\n",
      "\t\t</item>\n",
      "\t\t<item>\n",
      "\t\t\t<type>office</type>\n",
      "\t\t\t<number>646 555-4567</number>\n",
      "\t\t</item>\n",
      "\t</phoneNumbers>\n",
      "\t<children/>\n",
      "\t<spouse/>\n",
      "</all>\n",
      "\n"
     ]
    }
   ],
   "source": [
    "# Step 1: Convert json document to XML\n",
    "from json2xml import json2xml\n",
    "from json2xml.utils import readfromurl, readfromstring, readfromjson\n",
    "\n",
    "data = readfromstring(exampleJson)\n",
    "outputXML = json2xml.Json2xml(data, attr_type=False).to_xml()\n",
    "print(outputXML)"
   ]
  },
  {
   "cell_type": "code",
   "execution_count": 5,
   "metadata": {},
   "outputs": [],
   "source": [
    "# Translation helper method\n",
    "import boto3\n",
    "def getTranslation(text, sourceCode, destCode):\n",
    "    translate = boto3.client(service_name='translate')\n",
    "    result = translate.translate_text(Text=text, \n",
    "            SourceLanguageCode=sourceCode, TargetLanguageCode=destCode)\n",
    "    return result.get('TranslatedText')"
   ]
  },
  {
   "cell_type": "code",
   "execution_count": 6,
   "metadata": {},
   "outputs": [],
   "source": [
    "# Step 2: Do the translation\n",
    "translatedXML = getTranslation(outputXML, \"en\", \"es\")\n",
    "translatedXML = translatedXML.replace(\"<? xml version='1.0'? >\", \"<?xml version='1.0' ?>\")"
   ]
  },
  {
   "cell_type": "code",
   "execution_count": 7,
   "metadata": {},
   "outputs": [],
   "source": [
    "translatedXML = '<?xml version=\"1.0\"?>\\n<all>\\n <firstName>John</firstName>\\n <lastName>Smith</lastName>\\n <isAlive>Cierto</isAlive>\\n <age>27</age>\\n <address>\\n <streetAddress>Calle 21</streetAddress>\\n <city>Nueva York</city>\\n <state>NY</state>\\n <postalCode>10021-3100</postalCode>\\n </address>\\n <phoneNumbers>\\n <item>\\n <type>casa</type>\\n <number>212 555-1234</number>\\n </item>\\n <item>\\n <type>oficina</type>\\n <number>646 555-4567</number>\\n </item>\\n </phoneNumbers>\\n <children/>\\n <spouse/>\\n</all>\\n'"
   ]
  },
  {
   "cell_type": "code",
   "execution_count": 8,
   "metadata": {},
   "outputs": [],
   "source": [
    "# Step 3: Convert translated XML back to JSON\n",
    "import xmltodict\n",
    "data_dict = xmltodict.parse(translatedXML)\n",
    "json_data = json.dumps(data_dict) "
   ]
  },
  {
   "cell_type": "code",
   "execution_count": 9,
   "metadata": {},
   "outputs": [
    {
     "name": "stdout",
     "output_type": "stream",
     "text": [
      "{\n",
      "  \"all\": {\n",
      "    \"firstName\": \"John\",\n",
      "    \"lastName\": \"Smith\",\n",
      "    \"isAlive\": \"Cierto\",\n",
      "    \"age\": \"27\",\n",
      "    \"address\": {\n",
      "      \"streetAddress\": \"Calle 21\",\n",
      "      \"city\": \"Nueva York\",\n",
      "      \"state\": \"NY\",\n",
      "      \"postalCode\": \"10021-3100\"\n",
      "    },\n",
      "    \"phoneNumbers\": {\n",
      "      \"item\": [\n",
      "        {\n",
      "          \"type\": \"casa\",\n",
      "          \"number\": \"212 555-1234\"\n",
      "        },\n",
      "        {\n",
      "          \"type\": \"oficina\",\n",
      "          \"number\": \"646 555-4567\"\n",
      "        }\n",
      "      ]\n",
      "    },\n",
      "    \"children\": null,\n",
      "    \"spouse\": null\n",
      "  }\n",
      "}\n"
     ]
    }
   ],
   "source": [
    "printJson(json_data)"
   ]
  },
  {
   "cell_type": "code",
   "execution_count": null,
   "metadata": {},
   "outputs": [],
   "source": []
  }
 ],
 "metadata": {
  "kernelspec": {
   "display_name": "conda_python3",
   "language": "python",
   "name": "conda_python3"
  },
  "language_info": {
   "codemirror_mode": {
    "name": "ipython",
    "version": 3
   },
   "file_extension": ".py",
   "mimetype": "text/x-python",
   "name": "python",
   "nbconvert_exporter": "python",
   "pygments_lexer": "ipython3",
   "version": "3.6.13"
  }
 },
 "nbformat": 4,
 "nbformat_minor": 4
}
